{
 "cells": [
  {
   "cell_type": "markdown",
   "id": "e75d8552-6592-4364-8cdd-6820c4994527",
   "metadata": {},
   "source": [
    "#### Given an integer array nums and an integer k, return the k most frequent elements. You may return the answer in any order.\n",
    "\n",
    "Example 1:\n",
    "Input: nums = [1,1,1,2,2,3], k = 2\n",
    "Output: [1,2]\n",
    "\n",
    "Example 2:\n",
    "Input: nums = [1], k = 1\n",
    "Output: [1]"
   ]
  },
  {
   "cell_type": "code",
   "execution_count": null,
   "id": "8cf1eb68-b56e-46e5-99a6-f28c7a67cfc9",
   "metadata": {},
   "outputs": [],
   "source": [
    "class Solution(object):\n",
    "    def topKFrequent(self, nums, k):\n",
    "        \"\"\"\n",
    "        :type nums: List[int]\n",
    "        :type k: int\n",
    "        :rtype: List[int]\n",
    "        \"\"\"\n",
    "        hashMap = dict(Counter(nums))\n",
    "        frequencyList = [[] for _ in range(len(nums) + 1)] #considering index from 1 to n+1\n",
    "        for key, value in hashMap.items():\n",
    "            frequencyList[value].append(key)\n",
    "\n",
    "        result = []\n",
    "        temp = k\n",
    "        for elements in frequencyList[-1:0:-1]:\n",
    "            if len(elements) >= temp:\n",
    "                result = result + elements[:temp]\n",
    "                return result\n",
    "            else:\n",
    "                result = result + elements\n",
    "                temp = temp - len(elements)\n"
   ]
  }
 ],
 "metadata": {
  "kernelspec": {
   "display_name": "Python 3 (ipykernel)",
   "language": "python",
   "name": "python3"
  },
  "language_info": {
   "codemirror_mode": {
    "name": "ipython",
    "version": 3
   },
   "file_extension": ".py",
   "mimetype": "text/x-python",
   "name": "python",
   "nbconvert_exporter": "python",
   "pygments_lexer": "ipython3",
   "version": "3.11.0"
  }
 },
 "nbformat": 4,
 "nbformat_minor": 5
}
