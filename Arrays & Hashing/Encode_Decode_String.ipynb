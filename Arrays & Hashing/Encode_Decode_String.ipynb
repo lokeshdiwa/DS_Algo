{
 "cells": [
  {
   "cell_type": "markdown",
   "id": "e7d958d5-8032-4da3-9fe6-16fc7c34dd39",
   "metadata": {},
   "source": [
    "#### Design an algorithm to encode a list of strings to a string. The encoded string is then sent over the network and is decoded back to the original list of strings.\n",
    "\n",
    "Machine 1 (sender) has the function:\n",
    "\n",
    "string encode(vector strs) {\n",
    "  // ... your code\n",
    "  return encoded_string;\n",
    "}\n",
    "Machine 2 (receiver) has the function:\n",
    "vector decode(string s) {\n",
    "  //... your code\n",
    "  return strs;\n",
    "}\n",
    "So Machine 1 does:\n",
    "\n",
    "string encoded_string = encode(strs);\n",
    "and Machine 2 does:\n",
    "\n",
    "vector strs2 = decode(encoded_string);\n",
    "strs2 in Machine 2 should be the same as strs in Machine 1.\n",
    "\n",
    "Implement the encode and decode methods.\n",
    "\n",
    "Note:\n",
    "The string may contain any possible characters out of 256 valid ascii characters. Your algorithm should be generalized enough to work on any possible characters.\n",
    "Do not use class member/global/static variables to store states. Your encode and decode algorithms should be stateless.\n",
    "Do not rely on any library method such as eval or serialize methods. You should implement your own encode/decode algorithm."
   ]
  },
  {
   "cell_type": "code",
   "execution_count": null,
   "id": "764fdd53-58cc-4470-9445-c89a33669210",
   "metadata": {},
   "outputs": [],
   "source": [
    "View on Github\n",
    "class Solution:\n",
    "    \"\"\"\n",
    "    @param: strs: a list of strings\n",
    "    @return: encodes a list of strings to a single string.\n",
    "    \"\"\"\n",
    "\n",
    "    def encode(self, strs):\n",
    "        res = \"\"\n",
    "        for s in strs:\n",
    "            res += str(len(s)) + \"#\" + s\n",
    "        return res\n",
    "\n",
    "    \"\"\"\n",
    "    @param: s: A string\n",
    "    @return: dcodes a single string to a list of strings\n",
    "    \"\"\"\n",
    "\n",
    "    def decode(self, s):\n",
    "        res, i = [], 0\n",
    "\n",
    "        while i < len(s):\n",
    "            j = i\n",
    "            while s[j] != \"#\":\n",
    "                j += 1\n",
    "            length = int(s[i:j])\n",
    "            res.append(s[j + 1 : j + 1 + length])\n",
    "            i = j + 1 + length\n",
    "        return res"
   ]
  }
 ],
 "metadata": {
  "kernelspec": {
   "display_name": "Python 3 (ipykernel)",
   "language": "python",
   "name": "python3"
  },
  "language_info": {
   "codemirror_mode": {
    "name": "ipython",
    "version": 3
   },
   "file_extension": ".py",
   "mimetype": "text/x-python",
   "name": "python",
   "nbconvert_exporter": "python",
   "pygments_lexer": "ipython3",
   "version": "3.11.0"
  }
 },
 "nbformat": 4,
 "nbformat_minor": 5
}
