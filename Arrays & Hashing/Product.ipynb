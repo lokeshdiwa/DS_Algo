{
 "cells": [
  {
   "cell_type": "markdown",
   "id": "f10a8366-a8fd-41d0-9b26-03a82a1f1d49",
   "metadata": {},
   "source": [
    "#### Given an integer array nums, return an array answer such that answer[i] is equal to the product of all the elements of nums except nums[i].\n",
    "\n",
    "The product of any prefix or suffix of nums is guaranteed to fit in a 32-bit integer.\n",
    "\n",
    "You must write an algorithm that runs in O(n) time and without using the division operation.\n",
    "\n",
    "Example 1:\n",
    "Input: nums = [1,2,3,4]\n",
    "Output: [24,12,8,6]\n",
    "\n",
    "Example 2:\n",
    "Input: nums = [-1,1,0,-3,3]\n",
    "Output: [0,0,9,0,0]\n",
    "\n",
    "Example 3:\n",
    "Input: nums = [0,0]\n",
    "Output: [0,0]"
   ]
  },
  {
   "cell_type": "code",
   "execution_count": null,
   "id": "90e1db97-bff6-46c5-937d-20d643fe7a1a",
   "metadata": {},
   "outputs": [],
   "source": [
    "# without divison operator\n",
    "class Solution(object):\n",
    "    def productExceptSelf(self, nums):\n",
    "        \"\"\"\n",
    "        :type nums: List[int]\n",
    "        :rtype: List[int]\n",
    "        \"\"\"\n",
    "        length = len(nums)\n",
    "        result = [1] * length\n",
    "\n",
    "        for i in range(1,length):\n",
    "            result[i] = result[i-1] * nums[i-1]  #prefix\n",
    "            \n",
    "        postfix = 1\n",
    "        for i in range(length-2,-1,-1):\n",
    "            postfix = postfix * nums[i+1]  #postfix\n",
    "            result[i] *= postfix\n",
    "\n",
    "        return result\n"
   ]
  },
  {
   "cell_type": "code",
   "execution_count": null,
   "id": "50722768-bff3-4084-910f-aabff6da697b",
   "metadata": {},
   "outputs": [],
   "source": [
    "# with divison operator\n",
    "class Solution(object):\n",
    "    def productExceptSelf(self, nums):\n",
    "        \"\"\"\n",
    "        :type nums: List[int]\n",
    "        :rtype: List[int]\n",
    "        \"\"\"\n",
    "        allProduct = 1\n",
    "        counter = 0\n",
    "        for num in nums:\n",
    "            if num:\n",
    "                counter+=1\n",
    "                allProduct*=num\n",
    "                \n",
    "        if counter < (len(nums)-1):\n",
    "            allProduct = 0\n",
    "            \n",
    "        if 0 in nums:\n",
    "            return [0 if num else allProduct for num in nums]\n",
    "        return [allProduct/num  if num else 0 for num in nums]"
   ]
  }
 ],
 "metadata": {
  "kernelspec": {
   "display_name": "Python 3 (ipykernel)",
   "language": "python",
   "name": "python3"
  },
  "language_info": {
   "codemirror_mode": {
    "name": "ipython",
    "version": 3
   },
   "file_extension": ".py",
   "mimetype": "text/x-python",
   "name": "python",
   "nbconvert_exporter": "python",
   "pygments_lexer": "ipython3",
   "version": "3.11.0"
  }
 },
 "nbformat": 4,
 "nbformat_minor": 5
}
