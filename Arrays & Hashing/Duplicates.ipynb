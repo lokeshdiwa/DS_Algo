{
 "cells": [
  {
   "cell_type": "markdown",
   "id": "7d042da0-6372-48b4-a23a-09764c93eb03",
   "metadata": {},
   "source": [
    "#### Given an integer array nums, return true if any value appears at least twice in the array, and return false if every element is distinct.\n",
    "\n",
    "Example 1:\n",
    "Input: nums = [1,2,3,1]\n",
    "Output: true\n",
    "\n",
    "Example 2:\n",
    "Input: nums = [1,2,3,4]\n",
    "Output: false\n",
    "\n",
    "Example 3:\n",
    "Input: nums = [1,1,1,3,3,4,3,2,4,2]\n",
    "Output: true"
   ]
  },
  {
   "cell_type": "code",
   "execution_count": 2,
   "id": "f9e5d628-4237-4574-a8cb-5b2b7234ab85",
   "metadata": {},
   "outputs": [],
   "source": [
    "class Solution:\n",
    "    def containsDuplicate(self, nums: List[int]) -> bool:\n",
    "        return len(nums)!=len(set(nums))\n",
    "\n",
    "# Other solutions might be sorting the list and comparing adjacent elements if they are equal\n",
    "# or maintaing a dict and return true if an element occured twice"
   ]
  },
  {
   "cell_type": "markdown",
   "id": "e9bc702f-9976-4cf5-8990-621cf6eb9f96",
   "metadata": {},
   "source": [
    "#### Given an integer array nums and an integer k, return true if there are two distinct indices i and j in the array such that nums[i] == nums[j] and abs(i - j) <= k (k<=0).\n",
    "\n",
    "Example 1:\n",
    "Input: nums = [1,2,3,1], k = 3\n",
    "Output: true\n",
    "\n",
    "Example 2:\n",
    "Input: nums = [1,0,1,1], k = 1\n",
    "Output: true\n",
    "\n",
    "Example 3:\n",
    "Input: nums = [1,2,3,1,2,3], k = 2\n",
    "Output: false"
   ]
  },
  {
   "cell_type": "code",
   "execution_count": null,
   "id": "aeaf1a05-b19e-4976-ad7b-a19500c5d128",
   "metadata": {},
   "outputs": [],
   "source": [
    "class Solution:\n",
    "    def containsNearbyDuplicate(self, nums: List[int], k: int) -> bool:\n",
    "        nums_length = len(nums)\n",
    "        if len(set(nums)) == nums_length:\n",
    "            return False\n",
    "        for i in range(nums_length):\n",
    "            if nums[i] in nums[i+1:i+1+k]:\n",
    "                return True\n",
    "        return False"
   ]
  }
 ],
 "metadata": {
  "kernelspec": {
   "display_name": "Python 3 (ipykernel)",
   "language": "python",
   "name": "python3"
  },
  "language_info": {
   "codemirror_mode": {
    "name": "ipython",
    "version": 3
   },
   "file_extension": ".py",
   "mimetype": "text/x-python",
   "name": "python",
   "nbconvert_exporter": "python",
   "pygments_lexer": "ipython3",
   "version": "3.11.0"
  }
 },
 "nbformat": 4,
 "nbformat_minor": 5
}
