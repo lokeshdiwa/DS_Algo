{
 "cells": [
  {
   "cell_type": "markdown",
   "id": "2b8fc711-0038-437e-9738-48e66726aac3",
   "metadata": {},
   "source": [
    "#### Given n pairs of parentheses, write a function to generate all combinations of well-formed parentheses.\n",
    "\n",
    " \n",
    "\n",
    "Example 1:\n",
    "\n",
    "Input: n = 3\n",
    "\n",
    "Output: [\"((()))\",\"(()())\",\"(())()\",\"()(())\",\"()()()\"]\n",
    "\n",
    "Example 2:\n",
    "\n",
    "Input: n = 1\n",
    "\n",
    "Output: [\"()\"]"
   ]
  },
  {
   "cell_type": "code",
   "execution_count": null,
   "id": "62f9143d-0de7-436e-80ca-c2d1cc83a745",
   "metadata": {},
   "outputs": [],
   "source": [
    "class Solution:\n",
    "    def generateParenthesis(self, n: int) -> List[str]:\n",
    "        res = []\n",
    "        def decisionTree(openCount, closeCount, paranString):\n",
    "            if openCount == closeCount == n:\n",
    "                res.append(paranString)\n",
    "                return\n",
    "\n",
    "            if openCount < n :\n",
    "                decisionTree(openCount + 1,closeCount,paranString + '(')\n",
    "\n",
    "            if closeCount < openCount:\n",
    "                decisionTree(openCount,closeCount + 1,paranString + ')')\n",
    "\n",
    "        decisionTree(0,0,'')\n",
    "        return res\n",
    "        "
   ]
  }
 ],
 "metadata": {
  "kernelspec": {
   "display_name": "Python 3 (ipykernel)",
   "language": "python",
   "name": "python3"
  },
  "language_info": {
   "codemirror_mode": {
    "name": "ipython",
    "version": 3
   },
   "file_extension": ".py",
   "mimetype": "text/x-python",
   "name": "python",
   "nbconvert_exporter": "python",
   "pygments_lexer": "ipython3",
   "version": "3.11.0"
  }
 },
 "nbformat": 4,
 "nbformat_minor": 5
}
