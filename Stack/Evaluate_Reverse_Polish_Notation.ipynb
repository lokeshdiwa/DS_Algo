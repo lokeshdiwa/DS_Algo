{
 "cells": [
  {
   "cell_type": "markdown",
   "id": "f9db1467-cedf-477b-ac12-f64a26de5262",
   "metadata": {},
   "source": [
    "#### Evaluate the value of an arithmetic expression in Reverse Polish Notation.\n",
    "\n",
    "Valid operators are +, -, *, and /. Each operand may be an integer or another expression.\n",
    "\n",
    "Note that division between two integers should truncate toward zero.\n",
    "\n",
    "It is guaranteed that the given RPN expression is always valid. That means the expression would always evaluate to a result, and there will not be any division by zero operation. \n",
    "\n",
    "Example 1:\n",
    "\n",
    "Input: tokens = [\"2\",\"1\",\"+\",\"3\",\"*\"]\n",
    "Output: 9\n",
    "\n",
    "Explanation: ((2 + 1) * 3) = 9\n",
    "\n",
    "Example 2:\n",
    "\n",
    "Input: tokens = [\"4\",\"13\",\"5\",\"/\",\"+\"]\n",
    "Output: 6\n",
    "\n",
    "Explanation: (4 + (13 / 5)) = 6\n",
    "\n",
    "Example 3:\n",
    "\n",
    "Input: tokens = [\"10\",\"6\",\"9\",\"3\",\"+\",\"-11\",\"*\",\"/\",\"*\",\"17\",\"+\",\"5\",\"+\"]\n",
    "Output: 22\n",
    "\n",
    "Explanation: ((10 * (6 / ((9 + 3) * -11))) + 17) + 5\n",
    "\n",
    "= ((10 * (6 / (12 * -11))) + 17) + 5\n",
    "\n",
    "= ((10 * (6 / -132)) + 17) + 5\n",
    "\n",
    "= ((10 * 0) + 17) + 5\n",
    "\n",
    "= (0 + 17) + 5\n",
    "\n",
    "= 17 + 5\n",
    "= 22"
   ]
  },
  {
   "cell_type": "code",
   "execution_count": null,
   "id": "444cbbd3-4e11-4e08-8251-05d42ef0b88b",
   "metadata": {},
   "outputs": [],
   "source": [
    "class Solution:\n",
    "    def evalRPN(self, tokens: List[str]) -> int:\n",
    "        lst = []\n",
    "        for element in tokens:\n",
    "            if element == '+':\n",
    "                lst = lst[:-2] + [lst[-2] + lst[-1]]\n",
    "            elif element == '-':\n",
    "                lst = lst[:-2] + [lst[-2] - lst[-1]]\n",
    "            elif element == '*':\n",
    "                lst = lst[:-2] + [lst[-2] * lst[-1]]\n",
    "            elif element == '/':\n",
    "                lst = lst[:-2] + [int(lst[-2] / lst[-1])]\n",
    "            else:\n",
    "                lst.append(int(element))\n",
    "        return lst[0]"
   ]
  }
 ],
 "metadata": {
  "kernelspec": {
   "display_name": "Python 3 (ipykernel)",
   "language": "python",
   "name": "python3"
  },
  "language_info": {
   "codemirror_mode": {
    "name": "ipython",
    "version": 3
   },
   "file_extension": ".py",
   "mimetype": "text/x-python",
   "name": "python",
   "nbconvert_exporter": "python",
   "pygments_lexer": "ipython3",
   "version": "3.11.0"
  }
 },
 "nbformat": 4,
 "nbformat_minor": 5
}
