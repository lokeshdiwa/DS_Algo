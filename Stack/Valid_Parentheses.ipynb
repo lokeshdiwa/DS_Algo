{
 "cells": [
  {
   "cell_type": "markdown",
   "id": "938b0912-1620-4566-b97c-90bc39524969",
   "metadata": {},
   "source": [
    "#### Given a string s containing just the characters '(', ')', '{', '}', '[' and ']', determine if the input string is valid.\n",
    "\n",
    "An input string is valid if:\n",
    "\n",
    "Open brackets must be closed by the same type of brackets.\n",
    "Open brackets must be closed in the correct order.\n",
    "Every close bracket has a corresponding open bracket of the same type.\n",
    " \n",
    "\n",
    "Example 1:\n",
    "\n",
    "Input: s = \"()\"\n",
    "Output: true\n",
    "\n",
    "Example 2:\n",
    "\n",
    "Input: s = \"()[]{}\"\n",
    "Output: true\n",
    "\n",
    "Example 3:\n",
    "\n",
    "Input: s = \"(]\"\n",
    "Output: false"
   ]
  },
  {
   "cell_type": "code",
   "execution_count": null,
   "id": "f8174733-a377-448f-b052-cc7da886c04e",
   "metadata": {},
   "outputs": [],
   "source": [
    "class Solution:\n",
    "    def isValid(self, s: str) -> bool:\n",
    "        hashmap = {']':'[', '}':'{', ')':'('}\n",
    "        stack = []\n",
    "        for symbol in s:\n",
    "            if symbol in hashmap.values():\n",
    "                stack.append(symbol)\n",
    "                continue\n",
    "            elif not stack or stack[-1] != hashmap[symbol]:\n",
    "                return False\n",
    "            stack.pop()\n",
    "        return not stack"
   ]
  }
 ],
 "metadata": {
  "kernelspec": {
   "display_name": "Python 3 (ipykernel)",
   "language": "python",
   "name": "python3"
  },
  "language_info": {
   "codemirror_mode": {
    "name": "ipython",
    "version": 3
   },
   "file_extension": ".py",
   "mimetype": "text/x-python",
   "name": "python",
   "nbconvert_exporter": "python",
   "pygments_lexer": "ipython3",
   "version": "3.11.0"
  }
 },
 "nbformat": 4,
 "nbformat_minor": 5
}
