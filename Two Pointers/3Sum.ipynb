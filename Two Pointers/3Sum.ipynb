{
 "cells": [
  {
   "cell_type": "markdown",
   "id": "72955af1-84b1-4ca8-971f-b811167ed365",
   "metadata": {},
   "source": [
    "#### Given an integer array nums, return all the triplets [nums[i], nums[j], nums[k]] such that i != j, i != k, and j != k, and nums[i] + nums[j] + nums[k] == 0.\n",
    "\n",
    "Notice that the solution set must not contain duplicate triplets.\n",
    "\n",
    "Example 1:\n",
    "Input: nums = [-1,0,1,2,-1,-4]\n",
    "Output: [[-1,-1,2],[-1,0,1]]\n",
    "\n",
    "Explanation: \n",
    "\n",
    "nums[0] + nums[1] + nums[2] = (-1) + 0 + 1 = 0.\n",
    "\n",
    "nums[1] + nums[2] + nums[4] = 0 + 1 + (-1) = 0.\n",
    "\n",
    "nums[0] + nums[3] + nums[4] = (-1) + 2 + (-1) = 0.\n",
    "\n",
    "The distinct triplets are [-1,0,1] and [-1,-1,2].\n",
    "\n",
    "Notice that the order of the output and the order of the triplets does not matter.\n",
    "\n",
    "Example 2:\n",
    "Input: nums = [0,1,1]\n",
    "Output: []\n",
    "\n",
    "Explanation: The only possible triplet does not sum up to 0.\n",
    "\n",
    "Example 3:\n",
    "Input: nums = [0,0,0]\n",
    "Output: [[0,0,0]]\n",
    "\n",
    "Explanation: The only possible triplet sums up to 0."
   ]
  },
  {
   "cell_type": "code",
   "execution_count": null,
   "id": "cb122ac0-5757-4fd7-ae51-51c287871a85",
   "metadata": {},
   "outputs": [],
   "source": [
    "class Solution(object):\n",
    "    def threeSum(self, nums):\n",
    "        \"\"\"\n",
    "        :type nums: List[int]\n",
    "        :rtype: List[List[int]]\n",
    "        \"\"\"\n",
    "        nums = sorted(nums)\n",
    "        result = []\n",
    "        for i,val in enumerate(nums):\n",
    "\n",
    "            if i > 0 and nums[i-1]==val:\n",
    "                continue\n",
    "\n",
    "            left = i+1\n",
    "            right = len(nums)-1\n",
    "\n",
    "            while left < right:\n",
    "                sum = nums[left] + nums[right]\n",
    "                if sum > -nums[i]:\n",
    "                    right -= 1\n",
    "                elif sum < -nums[i]:\n",
    "                    left +=1\n",
    "                else:\n",
    "                    result.append([val,nums[left],nums[right]])\n",
    "                    right -= 1\n",
    "                    while left<right and nums[left+1] == nums[left]:\n",
    "                        left += 1\n",
    "                    left += 1\n",
    "        return result\n"
   ]
  }
 ],
 "metadata": {
  "kernelspec": {
   "display_name": "Python 3 (ipykernel)",
   "language": "python",
   "name": "python3"
  },
  "language_info": {
   "codemirror_mode": {
    "name": "ipython",
    "version": 3
   },
   "file_extension": ".py",
   "mimetype": "text/x-python",
   "name": "python",
   "nbconvert_exporter": "python",
   "pygments_lexer": "ipython3",
   "version": "3.11.0"
  }
 },
 "nbformat": 4,
 "nbformat_minor": 5
}
