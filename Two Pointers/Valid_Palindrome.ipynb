{
 "cells": [
  {
   "cell_type": "markdown",
   "id": "e3f84d6d-8ed5-45b7-ab5e-9775ca9526b9",
   "metadata": {},
   "source": [
    "#### A phrase is a palindrome if, after converting all uppercase letters into lowercase letters and removing all non-alphanumeric characters, it reads the same forward and backward. Alphanumeric characters include letters and numbers.\n",
    "\n",
    "Given a string s, return true if it is a palindrome, or false otherwise.\n",
    "\n",
    "Example 1:\n",
    "Input: s = \"A man, a plan, a canal: Panama\"\n",
    "Output: true\n",
    "\n",
    "Explanation: \"amanaplanacanalpanama\" is a palindrome.\n",
    "\n",
    "Example 2:\n",
    "Input: s = \"race a car\"\n",
    "Output: false\n",
    "\n",
    "Explanation: \"raceacar\" is not a palindrome.\n",
    "\n",
    "Example 3:\n",
    "Input: s = \" \"\n",
    "Output: true\n",
    "\n",
    "Explanation: s is an empty string \"\" after removing non-alphanumeric characters.\n",
    "Since an empty string reads the same forward and backward, it is a palindrome."
   ]
  },
  {
   "cell_type": "code",
   "execution_count": null,
   "id": "e89b16ff-b139-420f-9083-464980777081",
   "metadata": {},
   "outputs": [],
   "source": [
    "class Solution(object):\n",
    "    def isPalindrome(self, s):\n",
    "        \"\"\"\n",
    "        :type s: str\n",
    "        :rtype: bool\n",
    "        \"\"\"\n",
    "        beg = 0\n",
    "        end = len(s)-1\n",
    "        while beg<end:\n",
    "            if not s[beg].isalnum():\n",
    "                beg += 1\n",
    "                continue\n",
    "            if not s[end].isalnum():\n",
    "                end -= 1\n",
    "                continue\n",
    "            if s[beg].lower() != s[end].lower():\n",
    "                return False\n",
    "            beg += 1\n",
    "            end -= 1\n",
    "        return True"
   ]
  },
  {
   "cell_type": "code",
   "execution_count": null,
   "id": "9ceb64bd-0039-459b-aaa3-a73f1e5a9d03",
   "metadata": {},
   "outputs": [],
   "source": [
    "#non efficient another method\n",
    "class Solution(object):\n",
    "    def isPalindrome(self, s):\n",
    "        \"\"\"\n",
    "        :type s: str\n",
    "        :rtype: bool\n",
    "        \"\"\"\n",
    "        string = ''\n",
    "        for char in s:\n",
    "            if char.isalnum():\n",
    "                string += char.lower()\n",
    "        return string == string[::-1]\n",
    "        "
   ]
  }
 ],
 "metadata": {
  "kernelspec": {
   "display_name": "Python 3 (ipykernel)",
   "language": "python",
   "name": "python3"
  },
  "language_info": {
   "codemirror_mode": {
    "name": "ipython",
    "version": 3
   },
   "file_extension": ".py",
   "mimetype": "text/x-python",
   "name": "python",
   "nbconvert_exporter": "python",
   "pygments_lexer": "ipython3",
   "version": "3.11.0"
  }
 },
 "nbformat": 4,
 "nbformat_minor": 5
}
