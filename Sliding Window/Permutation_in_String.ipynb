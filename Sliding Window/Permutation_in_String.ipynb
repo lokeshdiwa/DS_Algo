{
 "cells": [
  {
   "cell_type": "markdown",
   "id": "dff7df50-81ab-49c2-8770-af2157044975",
   "metadata": {},
   "source": [
    "#### Given two strings s1 and s2, return true if s2 contains a permutation of s1, or false otherwise.\n",
    "\n",
    "In other words, return true if one of s1's permutations is the substring of s2.\n",
    "\n",
    " \n",
    "\n",
    "Example 1:\n",
    "\n",
    "Input: s1 = \"ab\", s2 = \"eidbaooo\"\n",
    "Output: true\n",
    "\n",
    "Explanation: s2 contains one permutation of s1 (\"ba\").\n",
    "\n",
    "Example 2:\n",
    "\n",
    "Input: s1 = \"ab\", s2 = \"eidboaoo\"\n",
    "Output: false"
   ]
  },
  {
   "cell_type": "code",
   "execution_count": null,
   "id": "b30925b5-761c-4658-92dd-feba93b3e637",
   "metadata": {},
   "outputs": [],
   "source": [
    "class Solution:\n",
    "    def checkInclusion(self, s1: str, s2: str) -> bool:\n",
    "        cntr, w, matched = Counter(s1), len(s1), 0   \n",
    "\n",
    "        for i in range(len(s2)):\n",
    "            if s2[i] in cntr: \n",
    "                cntr[s2[i]] -= 1\n",
    "                if cntr[s2[i]] == 0:\n",
    "                    matched += 1\n",
    "            if i >= w and s2[i-w] in cntr: \n",
    "                if cntr[s2[i-w]] == 0:\n",
    "                    matched -= 1\n",
    "                cntr[s2[i-w]] += 1\n",
    "\n",
    "            if matched == len(cntr):\n",
    "                return True\n",
    "\n",
    "        return False"
   ]
  },
  {
   "cell_type": "code",
   "execution_count": null,
   "id": "1a4be015-ac25-4457-bdd1-73bf2122c7db",
   "metadata": {},
   "outputs": [],
   "source": [
    "class Solution:\n",
    "    def checkInclusion(self, s1: str, s2: str) -> bool:\n",
    "        windowSize = len(s1)\n",
    "        s1counter = Counter(s1)\n",
    "        for i in range(0,len(s2)-windowSize+1):\n",
    "            if s1counter == Counter(s2[i:i+windowSize]):\n",
    "                return True\n",
    "        return False"
   ]
  }
 ],
 "metadata": {
  "kernelspec": {
   "display_name": "Python 3 (ipykernel)",
   "language": "python",
   "name": "python3"
  },
  "language_info": {
   "codemirror_mode": {
    "name": "ipython",
    "version": 3
   },
   "file_extension": ".py",
   "mimetype": "text/x-python",
   "name": "python",
   "nbconvert_exporter": "python",
   "pygments_lexer": "ipython3",
   "version": "3.11.0"
  }
 },
 "nbformat": 4,
 "nbformat_minor": 5
}
