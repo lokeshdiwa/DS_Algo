{
 "cells": [
  {
   "cell_type": "markdown",
   "id": "c4245911-e1c4-4fa5-b6f2-df8b010db396",
   "metadata": {},
   "source": [
    "#### You are given an array of integers nums, there is a sliding window of size k which is moving from the very left of the array to the very right. You can only see the k numbers in the window. Each time the sliding window moves right by one position.\n",
    "\n",
    "Return the max sliding window.\n",
    "\n",
    " \n",
    "\n",
    "Example 1:\n",
    "\n",
    "Input: nums = [1,3,-1,-3,5,3,6,7], k = 3\n",
    "Output: [3,3,5,5,6,7]\n",
    "\n",
    "Explanation: \n",
    "\n",
    "Window position                Max\n",
    "\n",
    "---------------               -----\n",
    "\n",
    "[1  3  -1] -3  5  3  6  7       3\n",
    "\n",
    " 1 [3  -1  -3] 5  3  6  7       3\n",
    " \n",
    " 1  3 [-1  -3  5] 3  6  7       5\n",
    " \n",
    " 1  3  -1 [-3  5  3] 6  7       5\n",
    " \n",
    " 1  3  -1  -3 [5  3  6] 7       6\n",
    " \n",
    " 1  3  -1  -3  5 [3  6  7]      7\n",
    " \n",
    " \n",
    "Example 2:\n",
    "\n",
    "Input: nums = [1], k = 1\n",
    "Output: [1]"
   ]
  },
  {
   "cell_type": "code",
   "execution_count": null,
   "id": "3c073903-70b7-4fb7-84c4-1dc672cedaf0",
   "metadata": {},
   "outputs": [],
   "source": [
    "class Solution:\n",
    "    def maxSlidingWindow(self, nums: List[int], k: int) -> List[int]:\n",
    "        res = []\n",
    "        r = l = 0\n",
    "        windowLst = []\n",
    "        while r<len(nums):\n",
    "            while windowLst and nums[r] > nums[windowLst[-1]]:\n",
    "                del windowLst[-1]\n",
    "            windowLst.append(r)\n",
    "\n",
    "            if l > windowLst[0]:\n",
    "                del windowLst[0]\n",
    "\n",
    "            if r+1 >= k: \n",
    "                res.append(nums[windowLst[0]])\n",
    "                l += 1\n",
    "            r += 1\n",
    "\n",
    "        return res"
   ]
  }
 ],
 "metadata": {
  "kernelspec": {
   "display_name": "Python 3 (ipykernel)",
   "language": "python",
   "name": "python3"
  },
  "language_info": {
   "codemirror_mode": {
    "name": "ipython",
    "version": 3
   },
   "file_extension": ".py",
   "mimetype": "text/x-python",
   "name": "python",
   "nbconvert_exporter": "python",
   "pygments_lexer": "ipython3",
   "version": "3.11.0"
  }
 },
 "nbformat": 4,
 "nbformat_minor": 5
}
