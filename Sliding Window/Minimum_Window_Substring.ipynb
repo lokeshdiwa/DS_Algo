{
 "cells": [
  {
   "cell_type": "markdown",
   "id": "a0cb95df-e872-49f8-a689-1f8526cdd02c",
   "metadata": {},
   "source": [
    "#### Given two strings s and t of lengths m and n respectively, return the minimum window substring\n",
    "of s such that every character in t (including duplicates) is included in the window. If there is no such substring, return the empty string \"\".\n",
    "\n",
    "The testcases will be generated such that the answer is unique.\n",
    "\n",
    " \n",
    "\n",
    "Example 1:\n",
    "\n",
    "Input: s = \"ADOBECODEBANC\", t = \"ABC\"\n",
    "Output: \"BANC\"\n",
    "\n",
    "Explanation: The minimum window substring \"BANC\" includes 'A', 'B', and 'C' from string t.\n",
    "\n",
    "Example 2:\n",
    "\n",
    "Input: s = \"a\", t = \"a\"\n",
    "Output: \"a\"\n",
    "\n",
    "Explanation: The entire string s is the minimum window.\n",
    "\n",
    "Example 3:\n",
    "\n",
    "Input: s = \"a\", t = \"aa\"\n",
    "Output: \"\"\n",
    "\n",
    "Explanation: Both 'a's from t must be included in the window.\n",
    "Since the largest window of s only has one 'a', return empty string."
   ]
  },
  {
   "cell_type": "code",
   "execution_count": null,
   "id": "cabeecd4-43d9-474b-ad05-dea2f5e081c7",
   "metadata": {},
   "outputs": [],
   "source": [
    "class Solution:\n",
    "    def minWindow(self, s: str, t: str) -> str:\n",
    "\n",
    "        thashmap = Counter(t)\n",
    "        resSize = len(thashmap)\n",
    "        l= 0\n",
    "        match = 0\n",
    "        minString = \"\"\n",
    "        stringLen = 100001\n",
    "        shashmap = {}\n",
    "\n",
    "        for r in range(len(s)):\n",
    "            shashmap[s[r]] = shashmap.get(s[r],0) + 1\n",
    "            if shashmap[s[r]] == thashmap[s[r]]:\n",
    "                match += 1\n",
    "            \n",
    "            while match == resSize:\n",
    "                \n",
    "                if stringLen > len(s[l:r+1]):\n",
    "                    minString = s[l:r+1]\n",
    "                    stringLen = len(s[l:r+1])\n",
    "\n",
    "                if shashmap[s[l]]-1 >= thashmap.get(s[l],-1):\n",
    "                    shashmap[s[l]] -= 1\n",
    "                    l += 1\n",
    "                    \n",
    "                else:\n",
    "                     break\n",
    "                     \n",
    "        return minString"
   ]
  },
  {
   "cell_type": "code",
   "execution_count": null,
   "id": "eb0cad06-b3f1-427d-86d7-d0d616ec18eb",
   "metadata": {},
   "outputs": [],
   "source": []
  }
 ],
 "metadata": {
  "kernelspec": {
   "display_name": "Python 3 (ipykernel)",
   "language": "python",
   "name": "python3"
  },
  "language_info": {
   "codemirror_mode": {
    "name": "ipython",
    "version": 3
   },
   "file_extension": ".py",
   "mimetype": "text/x-python",
   "name": "python",
   "nbconvert_exporter": "python",
   "pygments_lexer": "ipython3",
   "version": "3.11.0"
  }
 },
 "nbformat": 4,
 "nbformat_minor": 5
}
