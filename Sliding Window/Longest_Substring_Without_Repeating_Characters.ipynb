{
 "cells": [
  {
   "cell_type": "markdown",
   "id": "a559ec34-b379-4d5c-88da-c87204db4a96",
   "metadata": {},
   "source": [
    "#### Given a string s, find the length of the longest \n",
    "substring without repeating characters.\n",
    "\n",
    " \n",
    "\n",
    "Example 1:\n",
    "\n",
    "Input: s = \"abcabcbb\"\n",
    "Output: 3\n",
    "\n",
    "Explanation: The answer is \"abc\", with the length of 3.\n",
    "\n",
    "Example 2:\n",
    "\n",
    "Input: s = \"bbbbb\"\n",
    "Output: 1\n",
    "\n",
    "Explanation: The answer is \"b\", with the length of 1.\n",
    "\n",
    "Example 3:\n",
    "\n",
    "Input: s = \"pwwkew\"\n",
    "Output: 3\n",
    "\n",
    "Explanation: The answer is \"wke\", with the length of 3.\n",
    "\n",
    "Notice that the answer must be a substring, \"pwke\" is a subsequence and not a substring."
   ]
  },
  {
   "cell_type": "code",
   "execution_count": null,
   "id": "1a35e65f-45fe-4b30-a132-e1be9a0bf103",
   "metadata": {},
   "outputs": [],
   "source": [
    "class Solution:\n",
    "    def lengthOfLongestSubstring(self, s: str) -> int:\n",
    "        res = 0\n",
    "        hashset = set()\n",
    "        l = 0\n",
    "        for r in range(len(s)):\n",
    "            while s[r] in hashset:\n",
    "                hashset.discard(s[l])\n",
    "                l += 1\n",
    "            hashset.add(s[r])\n",
    "            res = max(res,r-l+1)\n",
    "        return res\n"
   ]
  }
 ],
 "metadata": {
  "kernelspec": {
   "display_name": "Python 3 (ipykernel)",
   "language": "python",
   "name": "python3"
  },
  "language_info": {
   "codemirror_mode": {
    "name": "ipython",
    "version": 3
   },
   "file_extension": ".py",
   "mimetype": "text/x-python",
   "name": "python",
   "nbconvert_exporter": "python",
   "pygments_lexer": "ipython3",
   "version": "3.11.0"
  }
 },
 "nbformat": 4,
 "nbformat_minor": 5
}
