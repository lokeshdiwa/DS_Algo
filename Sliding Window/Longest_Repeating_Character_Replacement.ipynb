{
 "cells": [
  {
   "cell_type": "markdown",
   "id": "afefd990-83cb-4a92-985d-17fa51d58b5e",
   "metadata": {},
   "source": [
    "#### You are given a string s and an integer k. You can choose any character of the string and change it to any other uppercase English character. You can perform this operation at most k times.\n",
    "\n",
    "Return the length of the longest substring containing the same letter you can get after performing the above operations.\n",
    "\n",
    " \n",
    "\n",
    "Example 1:\n",
    "\n",
    "Input: s = \"ABAB\", k = 2\n",
    "Output: 4\n",
    "\n",
    "Explanation: Replace the two 'A's with two 'B's or vice versa.\n",
    "\n",
    "Example 2:\n",
    "\n",
    "Input: s = \"AABABBA\", k = 1\n",
    "Output: 4\n",
    "\n",
    "Explanation: Replace the one 'A' in the middle with 'B' and form \"AABBBBA\".\n",
    "The substring \"BBBB\" has the longest repeating letters, which is 4."
   ]
  },
  {
   "cell_type": "code",
   "execution_count": null,
   "id": "95fbe69b-4cd0-4531-ad6f-26768020c332",
   "metadata": {},
   "outputs": [],
   "source": [
    "class Solution:\n",
    "    def characterReplacement(self, s: str, k: int) -> int:\n",
    "        l=0\n",
    "        res = 0\n",
    "        hashmap = {}\n",
    "        for r in range(len(s)):\n",
    "            while ((r-l)-res)>k:\n",
    "                hashmap[s[l]] -= 1\n",
    "                l += 1\n",
    "            hashmap[s[r]] = hashmap.get(s[r],0) + 1\n",
    "            res = max(res,hashmap[s[r]])\n",
    "            \n",
    "        return min(res + k,len(s))  \n"
   ]
  }
 ],
 "metadata": {
  "kernelspec": {
   "display_name": "Python 3 (ipykernel)",
   "language": "python",
   "name": "python3"
  },
  "language_info": {
   "codemirror_mode": {
    "name": "ipython",
    "version": 3
   },
   "file_extension": ".py",
   "mimetype": "text/x-python",
   "name": "python",
   "nbconvert_exporter": "python",
   "pygments_lexer": "ipython3",
   "version": "3.11.0"
  }
 },
 "nbformat": 4,
 "nbformat_minor": 5
}
